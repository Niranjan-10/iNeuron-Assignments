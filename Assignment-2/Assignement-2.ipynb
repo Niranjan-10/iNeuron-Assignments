{
 "cells": [
  {
   "cell_type": "markdown",
   "metadata": {},
   "source": [
    "# Task 1:"
   ]
  },
  {
   "cell_type": "markdown",
   "metadata": {},
   "source": [
    "1.1 Write a Python Program to implement your own myreduce() function which works exactly likePython's built-in function reduce()"
   ]
  },
  {
   "cell_type": "code",
   "execution_count": 1,
   "metadata": {},
   "outputs": [
    {
     "name": "stdout",
     "output_type": "stream",
     "text": [
      "[2, 6, 8]\n",
      "[2, 6, 8]\n",
      "[2, 6, 8]\n"
     ]
    }
   ],
   "source": [
    "def myFunction(lst):\n",
    "    retlst  = []\n",
    "    for i in lst:\n",
    "        if i%2 == 0:\n",
    "            retlst.append(i)\n",
    "    return retlst\n",
    "\n",
    "# used lambda function\n",
    "func1 = lambda a: [i for i in a if i%2==0]  \n",
    "\n",
    "def myreduce(func,list):\n",
    "    lst = func(list)\n",
    "    print(lst)\n",
    "\n",
    "\n",
    "#  Using decorators \n",
    "def myreduce_two(func, lst):\n",
    "    def demo():\n",
    "        func(lst)\n",
    "    return demo\n",
    "\n",
    "def func(lst):\n",
    "    mylst = []\n",
    "    for i in lst:\n",
    "        if i%2 == 0:\n",
    "            mylst.append(i)\n",
    "    \n",
    "    print(mylst)\n",
    "            \n",
    "\n",
    "if __name__ =='__main__':\n",
    "    # First way \n",
    "    myreduce(myFunction,[2,5,6,7,8])\n",
    "    myreduce(func1,[2,5,6,7,8])\n",
    "    # second way\n",
    "    result = myreduce_two(func,[2,5,6,7,8]) \n",
    "    result()"
   ]
  },
  {
   "cell_type": "markdown",
   "metadata": {},
   "source": [
    "1.2 Write a Python program to implement your own myfilter() function which works exactly likePython's built-in function filter()"
   ]
  },
  {
   "cell_type": "code",
   "execution_count": 10,
   "metadata": {},
   "outputs": [
    {
     "name": "stdout",
     "output_type": "stream",
     "text": [
      "['a', 'e', 'i', 'o']\n"
     ]
    }
   ],
   "source": [
    "def func(sequence):\n",
    "    letters = ['a', 'e', 'i', 'o', 'u']\n",
    "    mylst = []\n",
    "    for i in sequence:\n",
    "        if i in letters:\n",
    "            mylst.append(i)\n",
    "    return mylst\n",
    "            \n",
    "\n",
    "def myFilter(func, sequence):\n",
    "    lst = func(sequence)\n",
    "    return lst\n",
    "\n",
    "sequence =['a','b','e','s','i','o']\n",
    "lst = myFilter(func,sequence)\n",
    "print(lst)\n",
    "    "
   ]
  },
  {
   "cell_type": "markdown",
   "metadata": {},
   "source": [
    "2. Implement List comprehensions to produce the following lists.\n",
    "   Write List comprehensions to produce the following Lists\n",
    "   ['A', 'C', 'A', 'D', 'G', 'I', ’L’, ‘ D’]\n",
    "   ['x', 'xx', 'xxx', 'xxxx', 'y', 'yy', 'yyy', 'yyyy', 'z', 'zz', 'zzz', 'zzzz']\n",
    "   ['x', 'y', 'z', 'xx', 'yy', 'zz', 'xx', 'yy', 'zz', 'xxxx', 'yyyy', 'zzzz']\n",
    "   [[2], [3], [4], [3], [4], [5], [4], [5], [6]]\n",
    "   [[2, 3, 4, 5], [3, 4, 5, 6], [4, 5, 6, 7], [5, 6, 7, 8]]\n",
    "   [(1, 1), (2, 1), (3, 1), (1, 2), (2, 2), (3, 2), (1, 3), (2, 3), (3, 3)]\n",
    "    "
   ]
  },
  {
   "cell_type": "code",
   "execution_count": 1,
   "metadata": {},
   "outputs": [
    {
     "name": "stdout",
     "output_type": "stream",
     "text": [
      "['A', 'C', 'A', 'D', 'G', 'I', 'L', 'D']\n",
      "['x', 'xx', 'xxx', 'xxxx', 'y', 'yy', 'yyy', 'yyyy', 'z', 'zz', 'zzz', 'zzzz']\n",
      "['x', 'y', 'z', 'xx', 'yy', 'zz', 'xxx', 'yyy', 'zzz', 'xxxx', 'yyyy', 'zzzz']\n",
      "[[2], [3], [4], [3], [4], [5], [4], [5], [6]]\n",
      "[[2, 3, 4, 5], [3, 4, 5, 6], [4, 5, 6, 7], [5, 6, 7, 8]]\n",
      "[(1, 1), (2, 1), (3, 1), (1, 2), (2, 2), (3, 2), (1, 3), (2, 3), (3, 3)]\n"
     ]
    }
   ],
   "source": [
    "mystr = 'ACADGILD'\n",
    "mylst = [i for i in mystr]\n",
    "print(mylst)\n",
    "mystr1 = 'xyz'\n",
    "mylst1 = [i*j for i in mystr1 for j in range(1,5)]\n",
    "print(mylst1)\n",
    "j = 0\n",
    "mylst2 = [j*i for i in range(1,5)for  j in mystr1 ]\n",
    "print(mylst2)\n",
    "\n",
    "numberlst = [2,3,4,]\n",
    "print([ [i+j] for i in numberlst for j in range(0,3)])\n",
    "numberlst1 = [2,3,4,5]\n",
    "print([ [i+j for j in numberlst1] for i in range(0,4)])\n",
    "\n",
    "print([ (j,i) for i in range(1,4) for j in range(1,4)])\n"
   ]
  },
  {
   "cell_type": "markdown",
   "metadata": {},
   "source": [
    "3.Implement a function longestWord() that takes a list of words and returns the longest one."
   ]
  },
  {
   "cell_type": "code",
   "execution_count": 3,
   "metadata": {},
   "outputs": [
    {
     "name": "stdout",
     "output_type": "stream",
     "text": [
      "mstring\n"
     ]
    }
   ],
   "source": [
    "def filter_longest_word(mylst):\n",
    "    long_string = mylst[0]\n",
    "    for i in mylst:\n",
    "        if len(i) > len(long_string):\n",
    "            long_string = i\n",
    "    return long_string\n",
    "\n",
    "mylst = ['my', 'test', 'mstring', 'hello', 'world']\n",
    "\n",
    "print(filter_longest_word(mylst))"
   ]
  },
  {
   "cell_type": "markdown",
   "metadata": {},
   "source": [
    "# Task 2"
   ]
  },
  {
   "cell_type": "markdown",
   "metadata": {},
   "source": [
    "1. 1Write a Python Program(with class concepts) to find the area of the triangle using the below formula.\n",
    "\n",
    "    area = (s*(s-a)*(s-b)*(s-c)) ** 0.5\n",
    "    \n",
    "    Function to take the length of the sides of triangle from user should be defined in the parentclass and function to calculate the area should be defined in subclass."
   ]
  },
  {
   "cell_type": "code",
   "execution_count": 10,
   "metadata": {},
   "outputs": [
    {
     "name": "stdout",
     "output_type": "stream",
     "text": [
      "(4, 5, 6)\n",
      "49.21875\n"
     ]
    }
   ],
   "source": [
    "class Triangle:\n",
    "    def __init__(self,a,b,c):\n",
    "        self.a =a\n",
    "        self.b = b\n",
    "        self.c = c\n",
    "        \n",
    "    def get_a(self):\n",
    "        return self.a\n",
    "    def get_b(self):\n",
    "        return b\n",
    "    def get_c(Self):\n",
    "        return c\n",
    "    def set_a(self,a):\n",
    "        self.a = a\n",
    "    def set_b(Self,b):\n",
    "        self.b = b\n",
    "    def set_c(Self,c):\n",
    "        self.c = c\n",
    "    \n",
    "    def __repr__(self):\n",
    "        return f'{self.a, self.b, self.c}'\n",
    "\n",
    "class AreaTriangle(Triangle):\n",
    "    def __init__(self,a,b,c):\n",
    "        super().__init__(a,b,c)\n",
    "        self.s = (a+b+c)/2\n",
    "        \n",
    "    def calculate_area(self):\n",
    "        area = (self.s *(self.s - self.a)*(self.s - self.b)*(self.s - self.c) * 0.5 )\n",
    "        return area\n",
    "    def __repr__(self):\n",
    "        return super().__repr__()\n",
    "\n",
    "    \n",
    "object_of_Area = AreaTriangle(4,5,6)\n",
    "print(object_of_Area)\n",
    "print(object_of_Area.calculate_area())\n",
    "        \n",
    "        \n",
    "    "
   ]
  },
  {
   "cell_type": "markdown",
   "metadata": {},
   "source": [
    "1.2 Write a function filter_long_words() that takes a list of words and an integer n and returns the listof words that are longer than n."
   ]
  },
  {
   "cell_type": "code",
   "execution_count": 11,
   "metadata": {},
   "outputs": [
    {
     "data": {
      "text/plain": [
       "['people', 'welcome', 'my world']"
      ]
     },
     "execution_count": 11,
     "metadata": {},
     "output_type": "execute_result"
    }
   ],
   "source": [
    "def filter_long_words(mylst, n):\n",
    "    return [i for i in mylst if len(i)> n]\n",
    "\n",
    "mylst = ['hello', 'people', 'welcome', 'to', 'my world']\n",
    "filter_long_words(mylst, 5)\n",
    "            \n",
    "    "
   ]
  },
  {
   "cell_type": "markdown",
   "metadata": {},
   "source": [
    "2.1 Write a Python program using function concept that maps  list of words into a list of integers representing the lengths of the corresponding words​\n",
    "\n",
    "Hint: ​If a list [ ab,cde,erty] is passed on to the python function output should come as [2,3,4]\n",
    "\n",
    "Here 2,3 and 4 are the lengths of the words in the list."
   ]
  },
  {
   "cell_type": "code",
   "execution_count": 13,
   "metadata": {},
   "outputs": [
    {
     "name": "stdout",
     "output_type": "stream",
     "text": [
      "['my', 'list', 'contain', 'elements']\n",
      "[2, 4, 7, 8]\n"
     ]
    }
   ],
   "source": [
    "def map_the_list(mylst):\n",
    "    return [ len(i) for i in mylst]\n",
    "\n",
    "mylst = ['my', 'list', 'contain', 'elements']\n",
    "print(mylst)\n",
    "print(map_the_list(mylst))"
   ]
  },
  {
   "cell_type": "markdown",
   "metadata": {},
   "source": [
    "2.2 Write a Python function which takes a character (i.e. a string of length 1) and returns True if it isa vowel, False otherwise."
   ]
  },
  {
   "cell_type": "code",
   "execution_count": 33,
   "metadata": {},
   "outputs": [
    {
     "name": "stdout",
     "output_type": "stream",
     "text": [
      "Enter a character: U\n",
      "True\n"
     ]
    }
   ],
   "source": [
    "def func(c):\n",
    "    vowels = ['a', 'e', 'i', 'o', 'u', 'A','E', 'I','O','U']\n",
    "    if c in vowels:\n",
    "        return True\n",
    "    return False\n",
    "\n",
    "c = str(input('Enter a character: '))\n",
    "print(func(c))\n",
    "\n"
   ]
  },
  {
   "cell_type": "code",
   "execution_count": null,
   "metadata": {},
   "outputs": [],
   "source": []
  },
  {
   "cell_type": "code",
   "execution_count": null,
   "metadata": {},
   "outputs": [],
   "source": []
  }
 ],
 "metadata": {
  "kernelspec": {
   "display_name": "Python 3",
   "language": "python",
   "name": "python3"
  },
  "language_info": {
   "codemirror_mode": {
    "name": "ipython",
    "version": 3
   },
   "file_extension": ".py",
   "mimetype": "text/x-python",
   "name": "python",
   "nbconvert_exporter": "python",
   "pygments_lexer": "ipython3",
   "version": "3.7.4"
  }
 },
 "nbformat": 4,
 "nbformat_minor": 2
}
