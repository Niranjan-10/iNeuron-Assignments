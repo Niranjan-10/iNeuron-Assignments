{
 "cells": [
  {
   "cell_type": "code",
   "execution_count": 1,
   "metadata": {},
   "outputs": [
    {
     "name": "stdout",
     "output_type": "stream",
     "text": [
      "Enter a string : AcadGild\n",
      "dilGdacA\n"
     ]
    }
   ],
   "source": [
    "'''\n",
    "    Write a Python program to reverse a word after accepting the input from the user.\n",
    "    Sample Output:\n",
    "        Input word: AcadGild\n",
    "        Output: dilGdacA\n",
    "'''\n",
    "\n",
    "def reverseString():\n",
    "    myString = str(input('Enter a string : '))\n",
    "    revString = \"\".join(reversed(myString))\n",
    "    li= list(revString)\n",
    "    li[1], li[2] = li[2], li[1]\n",
    "    print(\"\".join(li))\n",
    "\n",
    "\n",
    "if __name__ == '__main__':\n",
    "    reverseString()"
   ]
  },
  {
   "cell_type": "markdown",
   "metadata": {},
   "source": [
    "4. Write a Python Program to print the given string in the format specified in the ​sample output.WE, THE PEOPLE OF INDIA, having solemnly resolved to constitute India into aSOVEREIGN, SOCIALIST, SECULAR, DEMOCRATIC REPUBLIC and to secure to allits citizens"
   ]
  },
  {
   "cell_type": "code",
   "execution_count": 2,
   "metadata": {},
   "outputs": [
    {
     "name": "stdout",
     "output_type": "stream",
     "text": [
      "WE, THE PEOPLE OF INDIA,\n",
      "     having solemnly resolved to constitute India into a SOVEREIGN, !\n",
      "          SOCIALIST,SECULAR,DEMOCRATIC REPUBLIC\n",
      "                to secure to allits citizens\n"
     ]
    }
   ],
   "source": [
    "\"\"\" \n",
    "    Write a Python Program to print the given string in the format specified in the ​sample output.\n",
    "    WE, THE PEOPLE OF INDIA, having solemnly resolved to constitute India into a\n",
    "    SOVEREIGN, SOCIALIST, SECULAR, DEMOCRATIC REPUBLIC and to secure to all\n",
    "    its citizens\n",
    "\n",
    "    output:\n",
    "        WE, THE PEOPLE OF INDIA,\n",
    "             having solemnly resolved to constitute India into a SOVEREIGN, !\n",
    "                SOCIALIST, SECULAR, DEMOCRATIC REPUBLIC\n",
    "                    and to secure to all its citizens\n",
    "\n",
    "\"\"\"\n",
    "def sformat():\n",
    "    str1 = 'WE, THE PEOPLE OF INDIA, having solemnly resolved to constitute India into a SOVEREIGN, SOCIALIST, SECULAR, DEMOCRATIC REPUBLIC and to secure to allits citizens'\n",
    "    li = str1.split(', ')\n",
    "    space =\"     \"\n",
    "\n",
    "    print(li[0] +\", \"+ li[1]+\",\")\n",
    "    print(space+li[2]+\", !\")\n",
    "    print(space*2+li[3]+','+li[4]+','+li[5].split(\" and\")[0])\n",
    "    print(space*3+li[5].split(\" and\")[1])\n",
    "\n",
    "if __name__ == '__main__':\n",
    "    sformat()"
   ]
  },
  {
   "cell_type": "code",
   "execution_count": null,
   "metadata": {},
   "outputs": [],
   "source": []
  }
 ],
 "metadata": {
  "kernelspec": {
   "display_name": "Python 3",
   "language": "python",
   "name": "python3"
  },
  "language_info": {
   "codemirror_mode": {
    "name": "ipython",
    "version": 3
   },
   "file_extension": ".py",
   "mimetype": "text/x-python",
   "name": "python",
   "nbconvert_exporter": "python",
   "pygments_lexer": "ipython3",
   "version": "3.7.4"
  }
 },
 "nbformat": 4,
 "nbformat_minor": 2
}
