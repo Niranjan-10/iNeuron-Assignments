{
 "cells": [
  {
   "cell_type": "markdown",
   "metadata": {},
   "source": [
    "1.\tWhat is a classification problem?"
   ]
  },
  {
   "cell_type": "markdown",
   "metadata": {},
   "source": [
    "Classification problems are those problem for a given input data we have to predict the the probability of the category or the class. In classification probems the label column in the dataset conatins qualitative data or categorical data"
   ]
  },
  {
   "cell_type": "markdown",
   "metadata": {},
   "source": [
    "2.\tWhat is Logistic Regression?"
   ]
  },
  {
   "cell_type": "markdown",
   "metadata": {},
   "source": [
    "It's the basic algorithm for classification problems.\n",
    "\n",
    "It calculates the probability that a given value belongs to a specific class. If the probability is more than 50%, it assigns the value in that particular class else if the probability is less than 50%, the value is assigned to the other class.\n",
    "\n",
    "It's also called as binary classifier"
   ]
  },
  {
   "cell_type": "markdown",
   "metadata": {},
   "source": [
    "3.\tWhy is the Sigmoid function used for Logistic Regression?"
   ]
  },
  {
   "cell_type": "markdown",
   "metadata": {},
   "source": [
    "The sigmoid function’s range is bounded between 0 and 1. Thus it’s useful in calculating the probability for the Logistic function. \n",
    "\n",
    "It’s derivative is easy to calculate than other functions which is useful during gradient descent calculation.\n",
    "\n",
    "It is a simple way of introducing non-linearity to the model."
   ]
  },
  {
   "cell_type": "markdown",
   "metadata": {},
   "source": [
    "4.\tWhat is the cost function?"
   ]
  },
  {
   "cell_type": "markdown",
   "metadata": {},
   "source": [
    "we can not use the linear regression cost function in Logistic regression.\n",
    "formula for Logistic regression is\n",
    "        \n",
    "        -(Y actual) log (Y pred) - (1-Y actual) log( 1 - Y pred)\n",
    "\n",
    "cost = -log(Y pred)  if Y actual = 1\n",
    "            \n",
    "cost = -log(1- Y pred) if Y actual = 0"
   ]
  },
  {
   "cell_type": "markdown",
   "metadata": {},
   "source": [
    "5.\tWhat is multiple Logistic Function?"
   ]
  },
  {
   "cell_type": "markdown",
   "metadata": {},
   "source": [
    "If our datasets have multiple feature then we can use multiple logistic function. it's same as the basic logistic regression.\n",
    "\n",
    "formula = \n",
    "            log(p/1-p) = m1x1 + m2x2+............+mnxn+c"
   ]
  },
  {
   "cell_type": "markdown",
   "metadata": {},
   "source": [
    "6.\tWhat is multilabel Logistic Regression?"
   ]
  },
  {
   "cell_type": "markdown",
   "metadata": {},
   "source": [
    "Many times, there are classification problems where the number of classes is greater than 2. We can extend Logistic regression for multi-class classification. The logic is simple; we train our logistic model for each class and calculate the probability(hθx) that a specific feature belongs to that class. Once we have trained the model for all the classes, we predict a new value’s class by choosing that class for which the probability(hθx) is maximum."
   ]
  },
  {
   "cell_type": "markdown",
   "metadata": {},
   "source": [
    "7.\tHow does the Logistic Regression Algorithm learn?"
   ]
  },
  {
   "cell_type": "markdown",
   "metadata": {},
   "source": [
    "The learning algorithm is how we search the set of possible hypotheses (hypothesis space) for the best parameterization (in this case the weight vector  𝐰 ).\n",
    "\n",
    "This search is an optimization problem looking for the hypothesis that optimizes an error measure.\n",
    "\n",
    "cross-entropy error measure is convex so there is only one minimum. Thus the minimum we arrive at is the global minimum."
   ]
  },
  {
   "cell_type": "markdown",
   "metadata": {},
   "source": [
    "8.\tExplain the confusion matrix."
   ]
  },
  {
   "cell_type": "markdown",
   "metadata": {},
   "source": [
    "A confusion matrix is a 2*2 matrix that contains :-\n",
    "\n",
    "True Positive(TP): A result that was predicted as positive by the classification model and also is positive\n",
    "\n",
    "True Negative(TN): A result that was predicted as negative by the classification model and also is negative\n",
    "\n",
    "False Positive(FP): A result that was predicted as positive by the classification model but actually is negative\n",
    "\n",
    "False Negative(FN): A result that was predicted as negative by the classification model but actually is positive."
   ]
  },
  {
   "cell_type": "markdown",
   "metadata": {},
   "source": [
    "9.\tWhat is Accuracy?"
   ]
  },
  {
   "cell_type": "markdown",
   "metadata": {},
   "source": [
    "It can be said that it’s defined as the total number of correct classifications divided by the total number of classifications.\n",
    "\n",
    "accuracy = TP +TN  / (TP+ FP + TN + FN)"
   ]
  },
  {
   "cell_type": "markdown",
   "metadata": {},
   "source": [
    "10.\tWhy there is a need for other metrics if ‘accuracy’ is already present?"
   ]
  },
  {
   "cell_type": "markdown",
   "metadata": {},
   "source": [
    "Sometimes we compare our model prediction accuracy with our previous prediction accuracy it may not be significant diffrence between them but if we apply recall or Precision there is significant difference so we use diffrence matrices even accuracy is available."
   ]
  },
  {
   "cell_type": "markdown",
   "metadata": {},
   "source": [
    "11.\tWhat are Recall and Precision? How do they differ?"
   ]
  },
  {
   "cell_type": "markdown",
   "metadata": {},
   "source": [
    "Recall=  𝑇𝑃/(𝑇𝑃+𝐹𝑁) \n",
    "\n",
    "from the total number of positive results how many positives were correctly predicted by the model.\n",
    "\n",
    "It shows how relevant the model is, in terms of positive results only.\n",
    "\n",
    "Precision is a measure of amongst all the positive predictions, how many of them were actually positive. \n",
    "\n",
    "Mathematically,\n",
    "\n",
    "Precision= 𝑇𝑃/(𝑇𝑃+𝐹𝑃)"
   ]
  },
  {
   "cell_type": "markdown",
   "metadata": {},
   "source": [
    "12.\tHow does the tradeoff between recall and precision work?"
   ]
  },
  {
   "cell_type": "markdown",
   "metadata": {},
   "source": [
    "sometimes , the model had a very high Accuracy but performed poorly in terms of Precision and Recall.\n",
    "so depends on the business requirement we will look for the recall or Precision.\n",
    "if the requirement is both like precison and recall then we go for the F1 Score."
   ]
  },
  {
   "cell_type": "markdown",
   "metadata": {},
   "source": [
    "13.\tExplain the F1 score."
   ]
  },
  {
   "cell_type": "markdown",
   "metadata": {},
   "source": [
    "F1 score is the harmonic mean of Precision and Recall.\n",
    "\n",
    "F1 score=  2∗(𝑃𝑟𝑒𝑐𝑖𝑠𝑖𝑜𝑛∗𝑅𝑒𝑐𝑎𝑙𝑙)/(𝑃𝑟𝑒𝑐𝑖𝑠𝑖𝑜𝑛+𝑅𝑒𝑐𝑎𝑙𝑙)"
   ]
  },
  {
   "cell_type": "markdown",
   "metadata": {},
   "source": [
    "14.\tWhat is specificity?"
   ]
  },
  {
   "cell_type": "markdown",
   "metadata": {},
   "source": [
    "specificity defines how specific is the model while predicting the True Negatives. \n",
    "Mathematically,\n",
    "\n",
    "Specificity= 𝑇𝑁/(𝑇𝑁+𝐹𝑃) "
   ]
  },
  {
   "cell_type": "markdown",
   "metadata": {},
   "source": [
    "15.\tExplain the significance of ROC."
   ]
  },
  {
   "cell_type": "markdown",
   "metadata": {},
   "source": [
    "Roc curve represents the confussion matrix in graphically. From the graph we can determine the TP,FP,TN and FN rate and based on our requirement we can pick our threshold value."
   ]
  },
  {
   "cell_type": "markdown",
   "metadata": {},
   "source": [
    "16.\tWhat is AUC, and when is it used?\n"
   ]
  },
  {
   "cell_type": "markdown",
   "metadata": {},
   "source": [
    "It helps us to choose the best model amongst the models for which we have plotted the ROC curves\n",
    "The best model is the one which encompasses the maximum area under it."
   ]
  },
  {
   "cell_type": "markdown",
   "metadata": {},
   "source": [
    "17.\tExplain the steps for Heroku deployment."
   ]
  },
  {
   "cell_type": "markdown",
   "metadata": {},
   "source": [
    "- Add a file called ‘gitignore’ inside the project folder. This folder contains the list of the files which we don’t want to include in the git repository. \n",
    "\n",
    "- Add a file called ‘Procfile’ inside the ‘reviewScrapper’ folder. This folder contains the command to run the flask application once deployed on the server:\n",
    "\n",
    " web: gunicorn app:app\n",
    "- create requirements.txt file by this command pip freeze > requirements.txt\n",
    "\n",
    "- After installing the Heroku CLI, Open a command prompt window and navigate to your project folder.\n",
    "\n",
    "- Type the command heroku login to login to your heroku account.\n",
    "- After logging in to Heroku, enter the command heroku create to create a heroku app. It will give you the URL of your Heroku app after successful creation. Or alternatively, you can go to the heroku website and create an app directly.\n",
    "\n",
    "- Before deploying the code to the Heroku cloud, we need to commit the changes to the git repository.\n",
    "- Type the command git init to initialize a local git repository.\n",
    "- Enter the command git status to see the uncommitted changes.\n",
    "- Enter the command git add . to add the uncommitted changes to the local repository.\n",
    "- Enter the command git commit -am \"make it better\" to commit the changes to the local repository.\n",
    "- Enter the command git push heroku master to push the code to the heroku cloud.\n",
    "- After deployment, heroku gives you the URL to hit the web API.\n",
    "- Once your application is deployed successfully, enter the command heroku logs --tail to see the logs.\n"
   ]
  },
  {
   "cell_type": "markdown",
   "metadata": {},
   "source": [
    "18.\tWhat difficulties did you face while deploying to Heroku?"
   ]
  },
  {
   "cell_type": "markdown",
   "metadata": {},
   "source": [
    "Procfile is not created properly.\n",
    "\n",
    "wrong name for requirements.txt file i face the problems.\n",
    "\n",
    "In Django application settings.py allowed host section i had made some changes."
   ]
  },
  {
   "cell_type": "code",
   "execution_count": null,
   "metadata": {},
   "outputs": [],
   "source": []
  }
 ],
 "metadata": {
  "kernelspec": {
   "display_name": "Python 3",
   "language": "python",
   "name": "python3"
  },
  "language_info": {
   "codemirror_mode": {
    "name": "ipython",
    "version": 3
   },
   "file_extension": ".py",
   "mimetype": "text/x-python",
   "name": "python",
   "nbconvert_exporter": "python",
   "pygments_lexer": "ipython3",
   "version": "3.7.4"
  }
 },
 "nbformat": 4,
 "nbformat_minor": 2
}
