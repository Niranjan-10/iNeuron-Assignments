{
 "cells": [
  {
   "cell_type": "markdown",
   "metadata": {},
   "source": [
    "1.\tWhat is Regression?"
   ]
  },
  {
   "cell_type": "markdown",
   "metadata": {},
   "source": [
    "### Answer :\n",
    "Regression is a statistical approch to determine the dependent varible(label) based on the independent variables(features).\n",
    "In other words we can say the determining the relationship between the dependent varible(label) and independent variables(features)."
   ]
  },
  {
   "cell_type": "markdown",
   "metadata": {},
   "source": [
    "2.\tWhat is Linear Regression?"
   ]
  },
  {
   "cell_type": "markdown",
   "metadata": {},
   "source": [
    "### Answer :\n",
    "Linear Regression is the basic an most fundamental algorithm of the machine learning. It predicts the predicts the dependent variable using a regression line based on the independent variables.\n",
    "some important points of Linear regression are:\n",
    "1. Independent variable must be continuous\n",
    "2. Finding the best fit regression line\n",
    "3. Linear Regrassion formula: y = mx+c\n",
    "   where c is the interceptor\n",
    "   and m is the slope"
   ]
  },
  {
   "cell_type": "markdown",
   "metadata": {},
   "source": [
    "3.\tWhen to use Linear Regression? Explain the equation of a straight line."
   ]
  },
  {
   "cell_type": "markdown",
   "metadata": {},
   "source": [
    "### Answer :\n",
    "if we see some linearity between the dependent and independent variable then we can use Linear regression.\n",
    "Some important points of Linear regression are given below : \n",
    "1. Independent variable must be continuous\n",
    "2. Finding the best fit regression line\n",
    "3. Linear Regrassion formula: y = mx+c\n",
    "   where c is the interceptor\n",
    "   and m is the slope"
   ]
  },
  {
   "cell_type": "markdown",
   "metadata": {},
   "source": [
    "4.\tWhat kind of plots will you use to showcase the relationship amongst the columns?"
   ]
  },
  {
   "cell_type": "markdown",
   "metadata": {},
   "source": [
    "### Answer :\n",
    "We can use scatter plot to visualise the relationship between the columns."
   ]
  },
  {
   "cell_type": "markdown",
   "metadata": {},
   "source": [
    "5.\tHow is the best fit line chosen?"
   ]
  },
  {
   "cell_type": "markdown",
   "metadata": {},
   "source": [
    "By performing Gradient descent we can find the bestfit line.\n",
    "For getting the best fit line, residual should be minimum."
   ]
  },
  {
   "cell_type": "markdown",
   "metadata": {},
   "source": [
    "6.\tWhat is gradient descent, and why is it used? Explain the maths."
   ]
  },
  {
   "cell_type": "markdown",
   "metadata": {},
   "source": [
    "### Answer :\n",
    "Gradient descent is the partial derivative of the mean squared error with respect to slope(m) and partial derivative of the mean squared error with respect to interceptor(c).\n",
    "                            n      \n",
    "Mean squared error(E) = 1/n Σ (yi - ŷ)^2\n",
    "                            i=1\n",
    "                 here ŷ = mx+c\n",
    "                 \n",
    "                              n      \n",
    "                        = 1/n Σ (yi - (mxi+c))^2\n",
    "                              i=1\n",
    "                              \n",
    "                              \n",
    "                              n      \n",
    "                  ∂E/∂c = 2/N Σ -(yi - (mxi+c))^2\n",
    "                              i=1\n",
    "                              \n",
    "                              \n",
    "                              \n",
    "                  ∂E/∂m = -x2/N Σ -(yi - (mxi+c))^2\n",
    "                              i=1\n",
    "                 "
   ]
  },
  {
   "cell_type": "markdown",
   "metadata": {},
   "source": [
    "7.\tWhat are residuals?"
   ]
  },
  {
   "cell_type": "markdown",
   "metadata": {},
   "source": [
    "### Answer : \n",
    "Distance between the obserrved value and predicted value."
   ]
  },
  {
   "cell_type": "markdown",
   "metadata": {},
   "source": [
    "8.\tWhat is correlation?"
   ]
  },
  {
   "cell_type": "markdown",
   "metadata": {},
   "source": [
    "### Answer : \n",
    "Corerlation defines the relationship between the two variables or features.\n",
    "we can determine the correlation by using pearson correlation coefficient formula.\n",
    "\n",
    "i.e \n",
    "    covariance(x,y)/std(x)*std(y)\n",
    "    \n",
    "    if result is +1 then they are highly correlated.\n",
    "    if result is -1 then they are highly correlated.\n",
    "    if result is 0 then they are not correlated"
   ]
  },
  {
   "cell_type": "markdown",
   "metadata": {},
   "source": [
    "9.\tWhat is multicollinearity?"
   ]
  },
  {
   "cell_type": "markdown",
   "metadata": {},
   "source": [
    "### Answer : \n",
    "When two or more predictor linearly dependent or related to each other then it is called multicollinearity."
   ]
  },
  {
   "cell_type": "markdown",
   "metadata": {},
   "source": [
    "10.\tHow to detect multicollinearity?"
   ]
  },
  {
   "cell_type": "markdown",
   "metadata": {},
   "source": [
    "### Answer : \n",
    "By using Correlation Matrices and Plots and VIF(Variance inflation factor) we can detect multicollinearity."
   ]
  },
  {
   "cell_type": "markdown",
   "metadata": {},
   "source": [
    "11.\tWhat are the remedies for multicollinearity?"
   ]
  },
  {
   "cell_type": "markdown",
   "metadata": {},
   "source": [
    "### Answer :\n",
    "we can remove one variable.\n",
    "\n",
    "we can apply Principal Component Analysis(PCA)"
   ]
  },
  {
   "cell_type": "markdown",
   "metadata": {},
   "source": [
    "12.\tWhat is the R-Squared Statistics?"
   ]
  },
  {
   "cell_type": "markdown",
   "metadata": {},
   "source": [
    "### Answer :\n",
    "R-Squared value is used to check the goodness of the bestfit line.\n",
    "\n",
    "R-squared value most of the time between the 0 and 1.\n",
    "\n",
    "if it is less than 0 then  the the model is worst model.\n",
    "\n",
    "it's calculated by the given expression\n",
    "\n",
    "1- ssr/sst\n",
    "\n",
    "where ssr = sum of residuals or error\n",
    "      sst = Total sum of squares"
   ]
  },
  {
   "cell_type": "markdown",
   "metadata": {},
   "source": [
    "13.\tWhat is an adjusted R-Squared Statistics?"
   ]
  },
  {
   "cell_type": "markdown",
   "metadata": {},
   "source": [
    "### Answer :\n",
    "With the addition of new features in our model the R2 increases as well, it is not necessary that our model will give better results even if we add the new features but R2 value will increase. So we use adjusted R-Squared Statistics.\n",
    "\n",
    "adjusted R-Squared = 1- (1-R squared) (N-1)/N-P-1\n",
    "\n",
    "where P = no of predictors or independent fetures\n",
    "\n",
    "      N = No of sample size"
   ]
  },
  {
   "cell_type": "markdown",
   "metadata": {},
   "source": [
    "14.\tWhy do we use adj R-squared?"
   ]
  },
  {
   "cell_type": "markdown",
   "metadata": {},
   "source": [
    "### Answer :\n",
    "As we increase the number of independent variables in our equation, the R2 increases as well. But that doesn’t mean that the new independent variables have any correlation with the output variable. In other words, even with the addition of new features in our model, it is not necessary that our model will yield better results but R2 value will increase. To rectify this problem, we use Adjusted R2"
   ]
  },
  {
   "cell_type": "markdown",
   "metadata": {},
   "source": [
    "15.\tWhy adj R-squared decreases when we use incompetent variables?\n",
    "\n"
   ]
  },
  {
   "cell_type": "markdown",
   "metadata": {},
   "source": [
    "### Answer :\n",
    "\n",
    "adjusted R-Squared = 1- (1-R squared) (N-1)/N-P-1\n",
    "\n",
    "from the above if p = 0 we can see that adjusted R2 becomes equal to R2.\n",
    "Adjusted r squared penalizes attributes which are corelated.\n",
    "\n"
   ]
  },
  {
   "cell_type": "markdown",
   "metadata": {},
   "source": [
    "16.\tHow to interpret a Linear Regression model?"
   ]
  },
  {
   "cell_type": "markdown",
   "metadata": {},
   "source": [
    "### Answer :\n",
    "we can interpret the model by the predicted coefficient and interceptor."
   ]
  },
  {
   "cell_type": "markdown",
   "metadata": {},
   "source": [
    "17.\tWhat is the difference between fit, fit_transform and predict methods?"
   ]
  },
  {
   "cell_type": "markdown",
   "metadata": {},
   "source": [
    "### Answer :\n",
    "fit() is used for fitting out train or test dataset for the prediction in a particular model or for scaling.\n",
    "after fir we apply the transform() function to apply the transformation to a particular set.\n",
    "But incase of fit_transform() function it combines the both functionality of fit() and transform().\n",
    "\n",
    "after training our data in a model we have to test our model by test data which is unseen data.\n",
    "At that time we can use model.predict() to see the performance of our model in test data.\n"
   ]
  },
  {
   "cell_type": "markdown",
   "metadata": {},
   "source": [
    "18.\tHow do you plot the least squared line?"
   ]
  },
  {
   "cell_type": "markdown",
   "metadata": {},
   "source": [
    "### Answer :\n",
    "We can use the x value or feature value and the preddicted value which is predicted by  the model. Then we plot both of them using matplotlib or seaborn to see the least squared line.\n"
   ]
  },
  {
   "cell_type": "markdown",
   "metadata": {},
   "source": [
    "19.\tWhat are Bias and Variance? What is Bias Variance Trade-off?"
   ]
  },
  {
   "cell_type": "markdown",
   "metadata": {},
   "source": [
    "### Answer :\n",
    "Bias is the difference between the average prediction of our model and the correct value which we are trying to predict.\n",
    "Variance is the variability of model prediction for a given data point or a value which tells us spread or dispersion of our data.\n",
    "\n",
    "if our model having low bias and high variance or high bias and low variance then we can say our model is overfitting or under fitting to avoid thses situation we use  Bias Variance Trade-off. which try to make our model low bias and low variance.\n",
    "\n",
    "error = bias^2 + variance + irreducable error"
   ]
  },
  {
   "cell_type": "markdown",
   "metadata": {},
   "source": [
    "20.\tWhat is the null and alternate hypothesis?"
   ]
  },
  {
   "cell_type": "markdown",
   "metadata": {},
   "source": [
    "### Answer :\n",
    "Null and alternative hypothesis are used in the hypothesis testing.\n",
    "Null hypothesis is the Initial assumption(H0) and alternative hypothesis(H1) is the opposite of null hypothesis"
   ]
  },
  {
   "cell_type": "markdown",
   "metadata": {},
   "source": [
    "21.\tWhat is multiple linear regression?"
   ]
  },
  {
   "cell_type": "markdown",
   "metadata": {},
   "source": [
    "### Answer :\n",
    "if we have multiple features and we have to create a model to see the relationship between those features and the label column. This is called Multiple Linear Regression.\n",
    "\n",
    "y = m1x1+m2x2+m3x3+....+mnxn+c"
   ]
  },
  {
   "cell_type": "markdown",
   "metadata": {},
   "source": [
    "22.\tWhat is the OLS method? Derive the formulae used in the OLS method."
   ]
  },
  {
   "cell_type": "markdown",
   "metadata": {},
   "source": [
    "### Answer :\n",
    "Ordinary least squares (OLS) regression is a statistical method of analysis that estimates the relationship between one or more independent variables and a dependent variable; the method estimates the relationship by minimizing the sum of the squares in the difference between the observed and predicted values of the dependent variable configured as a straight line.\n"
   ]
  },
  {
   "cell_type": "markdown",
   "metadata": {},
   "source": [
    "23.\tWhat is the p-value? How does it help in feature selection?"
   ]
  },
  {
   "cell_type": "markdown",
   "metadata": {},
   "source": [
    "### Answer :\n",
    "The p-value represents the probability of the coefficient actually being zero.\n",
    "if The p values is less than 0.05 then we reject the null hypothsis and accept the alternative hypothesis."
   ]
  },
  {
   "cell_type": "markdown",
   "metadata": {},
   "source": [
    "24.\tHow to handle categorical values in the data?"
   ]
  },
  {
   "cell_type": "markdown",
   "metadata": {},
   "source": [
    "### Answer :\n",
    "We can create dummy variable column or we can apply encoding techniques like label encoding, onehot encoding etc"
   ]
  },
  {
   "cell_type": "markdown",
   "metadata": {},
   "source": [
    "25.\tWhat is regularization, and why do we need it?"
   ]
  },
  {
   "cell_type": "markdown",
   "metadata": {},
   "source": [
    "### Answer :\n",
    "In regression models to train some data, there is a some chance that the model will overfit the given training data set. So to avoid this overfitting situation we can use regularization."
   ]
  },
  {
   "cell_type": "markdown",
   "metadata": {},
   "source": [
    "26.\tExplain Ridge Regression."
   ]
  },
  {
   "cell_type": "markdown",
   "metadata": {},
   "source": [
    "### Answer :\n",
    "Ridge regression penalizes the model based on the sum of squares of magnitude of the coefficients. The regularization term is given by\n",
    "\n",
    "regularization= 𝜆∗∑|𝛽2𝑗|\n",
    "\n",
    "λ is the shrinkage factor\n",
    "\n",
    "Ridge regression = RSS+𝜆∗∑|𝛽2𝑗|"
   ]
  },
  {
   "cell_type": "markdown",
   "metadata": {},
   "source": [
    "27.\tExplain Lasso Regression."
   ]
  },
  {
   "cell_type": "markdown",
   "metadata": {},
   "source": [
    "### Answer :\n",
    "LASSO regression penalizes the model based on the sum of magnitude of the coefficients. The regularization term is given by\n",
    "\n",
    "regularization= 𝜆∗∑|𝛽𝑗| \n",
    "Where, λ is the shrinkage factor\n",
    "\n",
    "LASSO regression = RSS+ 𝜆∗∑|𝛽𝑗|`"
   ]
  },
  {
   "cell_type": "markdown",
   "metadata": {},
   "source": [
    "28.\tExplain Elastic Net."
   ]
  },
  {
   "cell_type": "markdown",
   "metadata": {},
   "source": [
    "### Answer :\n",
    "elastic Net is a middle ground between Ridge Regression and Lasso Regression.he regularization term is a simple mix of both Ridge and Lasso’s regularization terms, and you can control the mix ratio α.\n",
    "where α is the mixing parameter between ridge (α = 0) and lasso (α = 1)."
   ]
  },
  {
   "cell_type": "markdown",
   "metadata": {},
   "source": [
    "29.\tWhy do we do a train test split?"
   ]
  },
  {
   "cell_type": "markdown",
   "metadata": {},
   "source": [
    "### Answer :\n",
    "While building a model for a given dataset. We have to train our model by some dataset so for that the given dataset is split into two parts, one is for training our model called train dataset and another is for testing our model which is called test datase.\n",
    "train_test_split() used to split the dataset.By default 75% data used for training and 25% data used for testing."
   ]
  },
  {
   "cell_type": "markdown",
   "metadata": {},
   "source": [
    "30.\tWhat is polynomial regression? When to use it?"
   ]
  },
  {
   "cell_type": "markdown",
   "metadata": {},
   "source": [
    "### Answer :\n",
    "Polynomial Regression can be defined as a mechanism to predict a dependent variable based on the polynomial relationship with the independent variable.\n",
    "sometimes while ploting the dependent and independent variables in a graph, it does not show any linearity that means the relationship between X and Y can't be described Linearly. Then we use the Polynomial Regression."
   ]
  },
  {
   "cell_type": "markdown",
   "metadata": {},
   "source": [
    "31.\tExplain the steps for GCP deployment."
   ]
  },
  {
   "cell_type": "markdown",
   "metadata": {},
   "source": [
    "### Answer :\n",
    "Go to https://cloud.google.com/ and create an account if already haven’t created one. Then go to the console of your account.\n",
    "\n",
    "Go to IAM and admin(highlighted) and click manage resources.\n",
    "\n",
    "Click CREATE PROJECT to create a new project for deployment.\n",
    "\n",
    "Once the project gets created, select App Engine and select Dashboard.\n",
    "\n",
    "Go to https://dl.google.com/dl/cloudsdk/channels/rapid/GoogleCloudSDKInstaller.exe to download the google cloud SDK to your machine.\n",
    "\n",
    "Click Start Tutorial on the screen and select Python app and click start.\n",
    "\n",
    "Check whether the correct project name is displayed and then click next.\n",
    "\n",
    "Create a file ‘app.yaml’ and put ‘runtime: python37’ in that file.\n",
    "\n",
    "Create a ‘requirements.txt’ file by opening the command prompt/anaconda prompt, navigate to the project folder and enter the command ‘pip freeze > requirements.txt’. It is recommended to use separate environments for different projects.\n",
    "\n",
    "Your python application file should be called ‘main.py’. It is a GCP specific requirement.\n",
    "\n",
    "Open command prompt window, navigate to the project folder and enter the command gcloud init to initialise the gcloud context.\n",
    "\n",
    "It asks you to select from the list of available projects.\n",
    "\n",
    "Once the project name is selected, enter the command gcloud app deploy app.yaml --project\n",
    "\n",
    "After executing the above command, GCP will ask you to enter the region for your application. Choose the appropriate one\n",
    "\n",
    "GCP will ask for the services to be deployed. Enter ‘y’ to deploy the services.\n",
    "\n",
    "And then it will give you the link for your app,and the deployed app looks like:\n",
    "\n",
    "\n",
    "\n",
    "\n"
   ]
  },
  {
   "cell_type": "markdown",
   "metadata": {},
   "source": [
    "32. What difficulties did you face in cloud deployment?"
   ]
  },
  {
   "cell_type": "markdown",
   "metadata": {},
   "source": [
    "### Answer :\n",
    "\n",
    "1. First i could not create billing account for my google account.\n",
    "2. I faced issue for not creating app.yaml file.\n",
    "3. As i was using django framework in settings.py.I made some changes in that file."
   ]
  },
  {
   "cell_type": "code",
   "execution_count": null,
   "metadata": {},
   "outputs": [],
   "source": []
  }
 ],
 "metadata": {
  "kernelspec": {
   "display_name": "Python 3",
   "language": "python",
   "name": "python3"
  },
  "language_info": {
   "codemirror_mode": {
    "name": "ipython",
    "version": 3
   },
   "file_extension": ".py",
   "mimetype": "text/x-python",
   "name": "python",
   "nbconvert_exporter": "python",
   "pygments_lexer": "ipython3",
   "version": "3.7.4"
  }
 },
 "nbformat": 4,
 "nbformat_minor": 2
}
